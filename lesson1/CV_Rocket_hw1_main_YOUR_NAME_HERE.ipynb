{
  "cells": [
    {
      "cell_type": "markdown",
      "metadata": {
        "id": "UzNsRSu6uMSy"
      },
      "source": [
        "# Домашнее задание: Сбор данных, автоматическая разметка и оценка качества (50 баллов)\n",
        "В этом задании вы научитесь:\n",
        "- загружать изображения из открытых датасетов;\n",
        "- применять предобученные модели для автоматической разметки;\n",
        "- оценивать качество разметки с помощью базовых метрик;\n",
        "- сравнивать сходимость между результатами разных разметок.\n",
        "\n",
        "Это важно, потому что автоматическая разметка помогает ускорять работу над CV-датасетами, особенно при построении пайплайнов активного обучения или semi-supervised подходов.\n"
      ]
    },
    {
      "cell_type": "markdown",
      "metadata": {
        "id": "CPqRsiOlvNgL"
      },
      "source": [
        "### Установим все необходимые зависимости:"
      ]
    },
    {
      "cell_type": "code",
      "execution_count": null,
      "metadata": {
        "colab": {
          "background_save": true
        },
        "id": "tvliVyi4uKIo",
        "outputId": "0fd7c8bf-c39e-4ffb-8bab-2ca4c249a7c7"
      },
      "outputs": [],
      "source": [
        "!pip install -q roboflow ultralytics\n",
        "!pip install -q inference-sdk\n",
        "!pip install -q torch torchvision"
      ]
    },
    {
      "cell_type": "code",
      "execution_count": null,
      "metadata": {
        "colab": {
          "background_save": true
        },
        "id": "0gJSZ6t31Saq"
      },
      "outputs": [],
      "source": [
        "from typing import List, Tuple"
      ]
    },
    {
      "cell_type": "markdown",
      "metadata": {
        "id": "KbxWHBxqv9pq"
      },
      "source": [
        "## Работа с данными"
      ]
    },
    {
      "cell_type": "markdown",
      "metadata": {
        "id": "qMuy6r9oxnRj"
      },
      "source": [
        "Начнем работу с датасетами из Roboflow. В этом домашнем задании расмотрим задачу детекции людей.\n",
        "\n",
        "Для того чтобы скачать данные, необходимо зарегистрировать на Roboflow https://roboflow.com/ и использовать свой API-ключ.\n",
        "\n",
        "API-ключ можно найти в личном кабинете в разделе Settings->API Keys\n",
        "\n",
        "Используйте Private API Key"
      ]
    },
    {
      "cell_type": "markdown",
      "metadata": {
        "id": "zt6W2CXW3xnt"
      },
      "source": [
        "#### **Задание (2 балла)**:\n",
        "Скачайте с Roboflow вот этот датасет https://universe.roboflow.com/leo-ueno/people-detection-o4rdr\n",
        "Визуализируйте 6 случайных изображений\n"
      ]
    },
    {
      "cell_type": "code",
      "execution_count": null,
      "metadata": {
        "colab": {
          "background_save": true
        },
        "id": "MpcU00XOZDis",
        "outputId": "d2f1ad36-b5cc-435e-9c36-d9b0bab3b3e8"
      },
      "outputs": [],
      "source": [
        "from roboflow import Roboflow\n",
        "\n",
        "# TODO: Воспользуйтесь API-ключом, загрузите и визуализируйте датасет\n",
        "# ---- Ваш код здесь ----\n",
        "rf = ...\n",
        "# ---- Конец кода ----"
      ]
    },
    {
      "cell_type": "markdown",
      "metadata": {
        "id": "CDt5F4iazgm0"
      },
      "source": [
        "Перед тем как применять автоматическую разметку или оценивать качество аннотаций, важно визуально ознакомиться с содержимым датасета.\n",
        "Это помогает:\n",
        "- понять, насколько разнообразны сцены;\n",
        "- определить, есть ли шумные или пустые изображения;\n",
        "- проверить, соответствуют ли изображения ожидаемому формату (цвет, размер, объекты)."
      ]
    },
    {
      "cell_type": "markdown",
      "metadata": {
        "id": "rgbFhjBSuGaL"
      },
      "source": [
        "## Визуализация изображений"
      ]
    },
    {
      "cell_type": "code",
      "execution_count": null,
      "metadata": {
        "colab": {
          "background_save": true
        },
        "id": "HMDD_tAcyzKz",
        "outputId": "da18381d-ed49-4a02-f6b4-0320960f29b8"
      },
      "outputs": [],
      "source": [
        "import os\n",
        "import random\n",
        "from PIL import Image\n",
        "import matplotlib.pyplot as plt\n",
        "\n",
        "image_dir = \"People-Detection-1/train/images\"\n",
        "image_files = [f for f in os.listdir(image_dir) if f.endswith('.jpg') or f.endswith('.png')]\n",
        "\n",
        "random_images = random.sample(image_files, 6)\n",
        "\n",
        "plt.figure(figsize=(12, 8))\n",
        "for i, img_name in enumerate(random_images):\n",
        "    img_path = os.path.join(image_dir, img_name)\n",
        "    img = Image.open(img_path)\n",
        "\n",
        "    plt.subplot(2, 3, i + 1)\n",
        "    plt.imshow(img)\n",
        "    plt.axis('off')\n",
        "\n",
        "plt.tight_layout()\n",
        "plt.show()"
      ]
    },
    {
      "cell_type": "markdown",
      "metadata": {
        "id": "VAVYpX8OuLDU"
      },
      "source": [
        "## Разметка данных"
      ]
    },
    {
      "cell_type": "markdown",
      "metadata": {
        "id": "RxneRiYk5YxV"
      },
      "source": [
        "Для того, чтобы понять что такое разметка и как с ней работать, сымитируем процесс разметки с помщью моделей.\n"
      ]
    },
    {
      "cell_type": "markdown",
      "metadata": {
        "id": "7EOrmPtjaAOl"
      },
      "source": [
        "Выберите и примените 3 предобученные модели (YOLOv8n, YOLOv8m, Faster R-CNN) для автоматической разметки изображений. Сохраните или выведите bounding boxes только для класса person."
      ]
    },
    {
      "cell_type": "markdown",
      "metadata": {
        "id": "5KcNk8d34fti"
      },
      "source": [
        "#### **Задание (10 баллов)**:\n",
        "загрузите модели 2 модели YOLO и 1 Faster R-CNN и получите результат разметки"
      ]
    },
    {
      "cell_type": "code",
      "execution_count": null,
      "metadata": {
        "colab": {
          "background_save": true
        },
        "id": "CvPtELj_zFJj",
        "outputId": "e51a0fd8-94aa-4f55-d5b9-e12085003bcf"
      },
      "outputs": [],
      "source": [
        "from ultralytics import YOLO\n",
        "# ---- Ваш код здесь ----\n",
        "# M1: YOLOv8n (на COCO)\n",
        "model_yolo_n = ...\n",
        "# M2: YOLOv8m (на COCO)\n",
        "model_yolo_m = ...\n",
        "# ---- Конец кода ----"
      ]
    },
    {
      "cell_type": "code",
      "execution_count": null,
      "metadata": {
        "colab": {
          "background_save": true
        },
        "id": "zpsIgZynezsv",
        "outputId": "5270085b-e3e9-4c44-d77a-a269bf6af65f"
      },
      "outputs": [],
      "source": [
        "import torchvision\n",
        "import torchvision.transforms as T\n",
        "import torch\n",
        "from PIL import Image\n",
        "\n",
        "# Загрузка модели\n",
        "model_frcnn = ...\n",
        "model_frcnn.eval()\n",
        "\n",
        "transform = T.ToTensor()\n",
        "\n",
        "def run_frcnn(img_path):\n",
        "  # ---- Ваш код здесь ----\n",
        "  # ---- Конец кода ----\n",
        "    return output  # содержит .boxes, .labels, .scores\n"
      ]
    },
    {
      "cell_type": "code",
      "execution_count": null,
      "metadata": {
        "colab": {
          "background_save": true
        },
        "id": "r3GgzgHG1E4B"
      },
      "outputs": [],
      "source": [
        "import os\n",
        "\n",
        "# Путь к изображениям\n",
        "image_dir = \"People-Detection-1/train/images\"\n",
        "image_files = sorted([f for f in os.listdir(image_dir) if f.endswith('.jpg') or f.endswith('.png')])\n",
        "# Ограничьте количество изображения\n",
        "image_paths = [os.path.join(image_dir, f) for f in image_files][:]\n",
        "\n",
        "# ---- Ваш код здесь ----  \n",
        "results_yolo_n = ...\n",
        "results_yolo_m = ...\n",
        "results_faster_rcnn = ...\n",
        "# ---- Конец кода ----"
      ]
    },
    {
      "cell_type": "markdown",
      "metadata": {
        "id": "y-tdT7UAuWDb"
      },
      "source": [
        "### Визуализируйте результаты разметки"
      ]
    },
    {
      "cell_type": "markdown",
      "metadata": {
        "id": "CZgpQGjW56Nz"
      },
      "source": [
        "Перед тем как оценивать результаты разметки, необходимо визуально оценить как выглядит разметка"
      ]
    },
    {
      "cell_type": "markdown",
      "metadata": {
        "id": "Ewi-L6dQ8NSS"
      },
      "source": [
        "#### Задание(2 баллов):\n",
        "Визуализируйте результаты разметки Yolo и Faster R-CNN"
      ]
    },
    {
      "cell_type": "code",
      "execution_count": null,
      "metadata": {
        "colab": {
          "background_save": true
        },
        "id": "Tahrkh4YaRpK"
      },
      "outputs": [],
      "source": [
        "import matplotlib.pyplot as plt\n",
        "import matplotlib.patches as patches\n",
        "from PIL import Image\n",
        "import torch\n",
        "\n",
        "def plot_person_boxes_all_models(image_path, yolo_result=None, frcnn_result=None, rf_result=None, model_name=\"\"):\n",
        "    img = Image.open(image_path)\n",
        "    fig, ax = plt.subplots(1)\n",
        "    ax.imshow(img)\n",
        "\n",
        "    # --- YOLOv8 результат ---\n",
        "    if yolo_result is not None:\n",
        "      # ---- Ваш код здесь ----\n",
        "\n",
        "      # ---- Конец кода ----\n",
        "\n",
        "    # --- Faster R-CNN результат ---\n",
        "    if frcnn_result is not None:\n",
        "      # ---- Ваш код здесь ----\n",
        "\n",
        "      # ---- Конец кода ----\n",
        "    plt.title(model_name)\n",
        "    plt.axis('off')\n",
        "    plt.show()"
      ]
    },
    {
      "cell_type": "code",
      "execution_count": null,
      "metadata": {
        "colab": {
          "background_save": true
        },
        "id": "dGMLVGhAaRr5"
      },
      "outputs": [],
      "source": [
        "i = 12  # индекс изображения\n",
        "plot_person_boxes_all_models(\n",
        "    image_path=image_paths[i],\n",
        "    yolo_result=results_yolo_n[i],\n",
        "    frcnn_result=results_faster_rcnn[i],  # или None, если ты не используешь FRCNN\n",
        "    model_name=\"YOLOv8n + FRCNN\"\n",
        ")"
      ]
    },
    {
      "cell_type": "code",
      "execution_count": null,
      "metadata": {
        "colab": {
          "background_save": true
        },
        "id": "0WwIELSTiDAS"
      },
      "outputs": [],
      "source": [
        "i = 12  # индекс изображения\n",
        "plot_person_boxes_all_models(\n",
        "    image_path=image_paths[i],\n",
        "    yolo_result=results_yolo_m[i],\n",
        "    frcnn_result=results_faster_rcnn[i],  # или None, если ты не используешь FRCNN\n",
        "    model_name=\"YOLOv8n + FRCNN\"\n",
        ")"
      ]
    },
    {
      "cell_type": "markdown",
      "metadata": {
        "id": "PPm397KWudfr"
      },
      "source": [
        "## Оценка результатов разметки"
      ]
    },
    {
      "cell_type": "markdown",
      "metadata": {
        "id": "5OGGUbnsunfK"
      },
      "source": [
        "### Выделение результатов разметки"
      ]
    },
    {
      "cell_type": "markdown",
      "metadata": {
        "id": "yeTkjvV7zRQh"
      },
      "source": [
        "#### Задание(10 баллов):\n",
        "Для всех результатов \"разметки\" выдели только ббоксы связанные с классом person"
      ]
    },
    {
      "cell_type": "code",
      "execution_count": null,
      "metadata": {
        "colab": {
          "background_save": true
        },
        "id": "sSNLRrg5hREh"
      },
      "outputs": [],
      "source": [
        "def extract_yolo_boxes(result) -> List[List[float]]:\n",
        "    \"\"\"\n",
        "    Возвращает список bbox'ов класса 'person' (class_id = 0) из YOLOv8 результата.\n",
        "\n",
        "    Parameters:\n",
        "        result: объект результата модели YOLOv8 (ultralytics.engine.results.Results)\n",
        "\n",
        "    Returns:\n",
        "        List[List[float]]: список прямоугольников [x1, y1, x2, y2]\n",
        "    \"\"\"\n",
        "    # ---- Ваш код здесь ----\n",
        "\n",
        "    # ---- Конец кода ----\n",
        "    return result"
      ]
    },
    {
      "cell_type": "code",
      "execution_count": null,
      "metadata": {
        "colab": {
          "background_save": true
        },
        "id": "8pmyN73shRHb"
      },
      "outputs": [],
      "source": [
        "def extract_frcnn_boxes(result, threshold=0.5):\n",
        "      \"\"\"\n",
        "    Извлекает bbox'ы класса 'person' из результата Faster R-CNN при score >= threshold.\n",
        "\n",
        "    Параметры:\n",
        "        result (dict): результат модели Faster R-CNN с ключами 'boxes', 'labels', 'scores'.\n",
        "        threshold (float): минимальный порог уверенности (по умолчанию 0.5).\n",
        "\n",
        "    Возвращает:\n",
        "        List[List[float]]: список bbox в формате [x1, y1, x2, y2], только для класса 'person' (label = 1).\n",
        "    \"\"\"\n",
        "   # ---- Ваш код здесь ----\n",
        "\n",
        "    # ---- Конец кода ----\n",
        "    return result"
      ]
    },
    {
      "cell_type": "code",
      "execution_count": null,
      "metadata": {
        "colab": {
          "background_save": true
        },
        "id": "E9gkdmTbhRKS"
      },
      "outputs": [],
      "source": [
        "boxes_yolo_n = [extract_yolo_boxes(r) for r in results_yolo_n]\n",
        "boxes_yolo_m = [extract_yolo_boxes(r) for r in results_yolo_m]\n",
        "boxes_faster_rcnn = [extract_frcnn_boxes(r) for r in results_faster_rcnn]"
      ]
    },
    {
      "cell_type": "markdown",
      "metadata": {
        "id": "yodvrc2Tus6n"
      },
      "source": [
        "### Подсчет метрик разметки"
      ]
    },
    {
      "cell_type": "markdown",
      "metadata": {
        "id": "eF8A14sE6nh9"
      },
      "source": [
        "#### Задание(10 баллов):\n",
        "Посчитайте IoU метрику между ббоксами и оцените согласованность между разметками"
      ]
    },
    {
      "cell_type": "code",
      "execution_count": null,
      "metadata": {
        "colab": {
          "background_save": true
        },
        "id": "qf48RMfxhRNx"
      },
      "outputs": [],
      "source": [
        "def compute_iou(boxA, boxB) -> float:\n",
        "    \"\"\"\n",
        "    Вычисляет IoU (Intersection over Union) между двумя прямоугольниками.\n",
        "\n",
        "    Параметры:\n",
        "        boxA (List[float]): координаты первого bbox [x1, y1, x2, y2]\n",
        "        boxB (List[float]): координаты второго bbox [x1, y1, x2, y2]\n",
        "\n",
        "    Возвращает:\n",
        "        float: значение IoU от 0 до 1\n",
        "    \"\"\"\n",
        "    # ---- Ваш код здесь ----\n",
        "\n",
        "    # ---- Конец кода ----\n",
        "    return iou"
      ]
    },
    {
      "cell_type": "code",
      "execution_count": null,
      "metadata": {
        "colab": {
          "background_save": true
        },
        "id": "a_PJLBeGi0y8"
      },
      "outputs": [],
      "source": [
        "def iou_agreement(boxes_a, boxes_b, iou_thresh=0.5) -> float:\n",
        "    \"\"\"\n",
        "    Вычисляет долю bbox'ов из A, которые согласованы с bbox'ами из B по IoU >= порога.\n",
        "\n",
        "    Параметры:\n",
        "        boxes_a (List[List[float]]): список bbox модели A\n",
        "        boxes_b (List[List[float]]): список bbox модели B\n",
        "        iou_thresh (float): порог IoU для согласия (по умолчанию 0.5)\n",
        "\n",
        "    Возвращает:\n",
        "        float: доля согласованных bbox (от 0 до 1)\n",
        "    \"\"\"\n",
        "    # ---- Ваш код здесь ----\n",
        "\n",
        "    # ---- Конец кода ----\n",
        "    return iou_percent"
      ]
    },
    {
      "cell_type": "code",
      "execution_count": null,
      "metadata": {
        "colab": {
          "background_save": true
        },
        "id": "fFbeaiSDi01h"
      },
      "outputs": [],
      "source": [
        "def mean_iou_agreement(all_a, all_b) -> float:\n",
        "    \"\"\"\n",
        "    Вычисляет среднюю долю согласованных bbox по всему датасету.\n",
        "\n",
        "    Параметры:\n",
        "        all_a (List[List[List[float]]]): список bbox'ов по изображениям модели A\n",
        "        all_b (List[List[List[float]]]): список bbox'ов по изображениям модели B\n",
        "\n",
        "    Возвращает:\n",
        "        float: среднее значение IoU согласия по изображениям\n",
        "    \"\"\"\n",
        "    # ---- Ваш код здесь ----\n",
        "\n",
        "    # ---- Конец кода ----\n",
        "    return mean_iou"
      ]
    },
    {
      "cell_type": "code",
      "execution_count": null,
      "metadata": {
        "colab": {
          "background_save": true
        },
        "id": "RFXW5g09i04H"
      },
      "outputs": [],
      "source": [
        "agreement_1_2 = mean_iou_agreement(boxes_yolo_n, boxes_yolo_m)\n",
        "agreement_1_3 = mean_iou_agreement(boxes_yolo_n, boxes_faster_rcnn)\n",
        "agreement_2_3 = mean_iou_agreement(boxes_yolo_m, boxes_faster_rcnn)\n",
        "\n",
        "print(f\"Сходимость M1 vs M2: {agreement_1_2:.2f}\")\n",
        "print(f\"Сходимость M1 vs M3: {agreement_1_3:.2f}\")\n",
        "print(f\"Сходимость M2 vs M3: {agreement_2_3:.2f}\")"
      ]
    },
    {
      "cell_type": "markdown",
      "metadata": {
        "id": "lBUmOfIS624I"
      },
      "source": [
        "#### Задание(10 баллов):\n",
        "Проанализируйте метрики сходимости precision, recall, f1 и Cohen’s Kappa."
      ]
    },
    {
      "cell_type": "code",
      "execution_count": null,
      "metadata": {
        "colab": {
          "background_save": true
        },
        "id": "T9yiXvzh18B0"
      },
      "outputs": [],
      "source": [
        "def match_predictions(pred_boxes, ref_boxes, iou_thresh=0.5) -> Tuple[int, int, int]:\n",
        "    \"\"\"\n",
        "    Сопоставляет предсказанные bbox с эталонными и возвращает TP, FP, FN.\n",
        "\n",
        "    Параметры:\n",
        "        pred_boxes (List[List[float]]): список bbox от модели\n",
        "        ref_boxes (List[List[float]]): список bbox из эталона (GT или другой модели)\n",
        "        iou_thresh (float): порог для совпадения IoU\n",
        "\n",
        "    Возвращает:\n",
        "        Tuple[int, int, int]: TP, FP, FN\n",
        "    \"\"\"\n",
        "    # ---- Ваш код здесь ----\n",
        "\n",
        "    # ---- Конец кода ----\n",
        "    return tp, fp, fn"
      ]
    },
    {
      "cell_type": "code",
      "execution_count": null,
      "metadata": {
        "colab": {
          "background_save": true
        },
        "id": "MMRYFdAW1-0P"
      },
      "outputs": [],
      "source": [
        "def precision_recall_f1(tp, fp, fn) -> Tuple[float, float, float]:\n",
        "    \"\"\"\n",
        "    Вычисляет precision, recall и F1 по TP, FP, FN.\n",
        "\n",
        "    Параметры:\n",
        "        tp (int): true positives\n",
        "        fp (int): false positives\n",
        "        fn (int): false negatives\n",
        "\n",
        "    Возвращает:\n",
        "        Tuple[float, float, float]: precision, recall, f1\n",
        "    \"\"\"\n",
        "    # ---- Ваш код здесь ----\n",
        "\n",
        "    # ---- Конец кода ----\n",
        "    return precision, recall, f1"
      ]
    },
    {
      "cell_type": "code",
      "execution_count": null,
      "metadata": {
        "colab": {
          "background_save": true
        },
        "id": "0S37wNiDZNga"
      },
      "outputs": [],
      "source": [
        "from sklearn.metrics import cohen_kappa_score\n",
        "\n",
        "def compute_kappa(boxes_a, boxes_b) -> float:\n",
        "    \"\"\"\n",
        "    Вычисляет метрику Cohen’s Kappa для двух списков боксов на уровне изображения.\n",
        "\n",
        "    Параметры:\n",
        "        boxes_a (List[List[List[float]]]): bbox'ы модели A\n",
        "        boxes_b (List[List[List[float]]]): bbox'ы модели B\n",
        "\n",
        "    Возвращает:\n",
        "        float: значение Kappa от -1 до 1\n",
        "    \"\"\"\n",
        "    # ---- Ваш код здесь ----\n",
        "\n",
        "    # ---- Конец кода ----\n",
        "    return cohen_kappa"
      ]
    },
    {
      "cell_type": "code",
      "execution_count": null,
      "metadata": {
        "colab": {
          "background_save": true
        },
        "id": "yMcds4OPkZXr"
      },
      "outputs": [],
      "source": [
        "def compare_models(pred_a, pred_b, iou_thresh=0.5)->Tuple[float, float, float, float]:\n",
        "    \"\"\"\n",
        "    Сравнивает две модели по IoU: TP, FP, FN, метрики и Kappa.\n",
        "\n",
        "    Параметры:\n",
        "        pred_a (List[List[List[float]]]): bbox'ы модели A\n",
        "        pred_b (List[List[List[float]]]): bbox'ы модели B\n",
        "        iou_thresh (float): порог IoU\n",
        "\n",
        "    Возвращает:\n",
        "        Tuple[float, float, float, float]: precision, recall, F1, kappa\n",
        "    \"\"\"\n",
        "    # ---- Ваш код здесь ----\n",
        "\n",
        "    # ---- Конец кода ----\n",
        "    return precision, recall, f1, kappa"
      ]
    },
    {
      "cell_type": "markdown",
      "metadata": {
        "id": "SouvbI4C7MQk"
      },
      "source": [
        "#### Задание(1 балла):\n",
        "На основе результатов метрик напишите вывод о том, значат эти метрики и какие можно сделать выводы о разметке."
      ]
    },
    {
      "cell_type": "code",
      "execution_count": null,
      "metadata": {
        "colab": {
          "background_save": true
        },
        "id": "713X-Uh8kbFr"
      },
      "outputs": [],
      "source": [
        "metrics_1_2 = compare_models(boxes_yolo_n, boxes_yolo_m)\n",
        "metrics_1_3 = compare_models(boxes_yolo_n, boxes_faster_rcnn)\n",
        "metrics_2_3 = compare_models(boxes_yolo_m, boxes_faster_rcnn)\n",
        "\n",
        "import pandas as pd\n",
        "df_cmp = pd.DataFrame({\n",
        "    \"Pair\": [\"M1 vs M2\", \"M1 vs M3\", \"M2 vs M3\"],\n",
        "    \"Precision\": [metrics_1_2[0], metrics_1_3[0], metrics_2_3[0]],\n",
        "    \"Recall\": [metrics_1_2[1], metrics_1_3[1], metrics_2_3[1]],\n",
        "    \"F1 Score\": [metrics_1_2[2], metrics_1_3[2], metrics_2_3[2]],\n",
        "    \"Cohen’s Kappa\": [metrics_1_2[3], metrics_1_3[3], metrics_2_3[3]]\n",
        "})\n",
        "\n",
        "df_cmp.style.format({\"Precision\": \"{:.2%}\", \"Recall\": \"{:.2%}\", \"F1 Score\": \"{:.2%}\", \"Cohen’s Kappa\": \"{:.2f}\"})"
      ]
    },
    {
      "cell_type": "markdown",
      "metadata": {},
      "source": [
        "Вывод: # ---- Ваш комментарий здесь ----"
      ]
    },
    {
      "cell_type": "markdown",
      "metadata": {
        "id": "ltIDjwx4u2AP"
      },
      "source": [
        "## Визуализация метрик\n",
        "Для того чтобы проанализировать метрики, визуализируем heatmap метрик"
      ]
    },
    {
      "cell_type": "code",
      "execution_count": null,
      "metadata": {
        "colab": {
          "background_save": true
        },
        "id": "ABhF6_wRkcdZ"
      },
      "outputs": [],
      "source": [
        "import seaborn as sns\n",
        "import matplotlib.pyplot as plt\n",
        "import numpy as np\n",
        "\n",
        "# IoU-покрытие для одной пары моделей\n",
        "def iou_agreement(boxes_a, boxes_b, iou_thresh=0.5):\n",
        "    matched = 0\n",
        "    for a in boxes_a:\n",
        "        if any(compute_iou(a, b) >= iou_thresh for b in boxes_b):\n",
        "            matched += 1\n",
        "    return matched / max(1, len(boxes_a))\n",
        "\n",
        "# Считаем среднюю сходимость по датасету\n",
        "def iou_matrix(all_a, all_b):\n",
        "    scores = []\n",
        "    for a_boxes, b_boxes in zip(all_a, all_b):\n",
        "        scores.append(iou_agreement(a_boxes, b_boxes))\n",
        "    return np.mean(scores)\n",
        "\n",
        "# Построим матрицу\n",
        "iou_values = np.array([\n",
        "    [1.0,\n",
        "     iou_matrix(boxes_yolo_n, boxes_yolo_m),\n",
        "     iou_matrix(boxes_yolo_n, boxes_faster_rcnn)],\n",
        "    [iou_matrix(boxes_yolo_m, boxes_yolo_n),\n",
        "     1.0,\n",
        "     iou_matrix(boxes_yolo_m, boxes_faster_rcnn)],\n",
        "    [iou_matrix(boxes_faster_rcnn, boxes_yolo_n),\n",
        "     iou_matrix(boxes_faster_rcnn, boxes_yolo_m),\n",
        "     1.0]\n",
        "])\n",
        "\n",
        "labels = [\"YOLOv8n\", \"YOLOv8m\", \"Faster R-CNN\"]\n",
        "plt.figure(figsize=(6, 5))\n",
        "sns.heatmap(iou_values, xticklabels=labels, yticklabels=labels, annot=True, fmt=\".2f\", cmap=\"YlGnBu\")\n",
        "plt.title(\"IoU Agreement Heatmap Between Models\")\n",
        "plt.show()"
      ]
    },
    {
      "cell_type": "code",
      "execution_count": null,
      "metadata": {
        "colab": {
          "background_save": true
        },
        "id": "I_Lcm_wulEtp"
      },
      "outputs": [],
      "source": [
        "# Считаем разницу между количеством боксов у моделей\n",
        "disagreement_scores = []\n",
        "for i, (b1, b2, b3) in enumerate(zip(boxes_yolo_n, boxes_yolo_m, boxes_faster_rcnn)):\n",
        "    n1, n2, n3 = len(b1), len(b2), len(b3)\n",
        "    score = max(abs(n1 - n2), abs(n1 - n3), abs(n2 - n3))\n",
        "    disagreement_scores.append((i, score))\n",
        "\n",
        "# Сортируем по убыванию разногласий\n",
        "disagreement_scores.sort(key=lambda x: x[1], reverse=True)\n",
        "\n",
        "# Выводим топ-5 изображений с наибольшими расхождениями\n",
        "print(\"Наибольшие расхождения в количестве bbox:\")\n",
        "for i, score in disagreement_scores[:5]:\n",
        "    print(f\"{i}: {image_paths[i]} — различие: {score} bbox\")"
      ]
    },
    {
      "cell_type": "markdown",
      "metadata": {
        "id": "3aeq6IWotCmZ"
      },
      "source": [
        "## Создание финального датасета"
      ]
    },
    {
      "cell_type": "markdown",
      "metadata": {
        "id": "UCDx28XS2p1y"
      },
      "source": [
        "Теперь финальная часть - создание датасета.\n",
        "В реальной практике, когда происходит перекрестная разметка несколькими разметчиками, для того чтобы взять эталлонный gt можно использовать концепцию пересечения как минимум 2 моделей. То есть мы считаем что лейбл \"истинный\", если есть пересечение разметки"
      ]
    },
    {
      "cell_type": "markdown",
      "metadata": {
        "id": "Q5Mr4son3Cco"
      },
      "source": [
        "#### **Задание(5 балла)**:\n",
        "Напишите код, для того чтобы создать финальный датасет. Финальный датасет содержит лейблы, если есть пересечение минимум 2 моделей"
      ]
    },
    {
      "cell_type": "code",
      "execution_count": null,
      "metadata": {
        "colab": {
          "background_save": true
        },
        "id": "5ugpsGuhlGLz"
      },
      "outputs": [],
      "source": [
        "def is_supported_by_others(box, others, iou_thresh=0.5) -> bool:\n",
        "    \"\"\"\n",
        "    Проверяет, был ли bbox поддержан как минимум двумя другими источниками (моделями).\n",
        "\n",
        "    Параметры:\n",
        "        box (List[float]): текущий bbox в формате [x1, y1, x2, y2]\n",
        "        others (List[List[List[float]]]): список bbox'ов от других моделей\n",
        "        iou_thresh (float): порог IoU для согласия (по умолчанию 0.5)\n",
        "\n",
        "    Возвращает:\n",
        "        bool: True, если bbox подтверждён ≥ 2 другими источниками\n",
        "    \"\"\"\n",
        "    # ---- Ваш код здесь ----\n",
        "\n",
        "    # ---- Конец кода ----\n",
        "    return result\n",
        "\n",
        "# Финальный датасет: bbox'ы, подтверждённые ≥2 моделями\n",
        "final_dataset = []\n",
        "\n",
        "for b1, b2, b3 in zip(boxes_yolo_n, boxes_yolo_m, boxes_faster_rcnn):\n",
        "    all_boxes = b1 + b2 + b3\n",
        "    # Убираем повторы\n",
        "    unique_boxes = []\n",
        "    for box in all_boxes:\n",
        "        if not any(compute_iou(box, u) > 0.95 for u in unique_boxes):\n",
        "            unique_boxes.append(box)\n",
        "\n",
        "    # Фильтрация: оставляем только bbox с подтверждением\n",
        "    accepted = []\n",
        "    for box in unique_boxes:\n",
        "        if is_supported_by_others(box, [b1, b2, b3]):\n",
        "            accepted.append(box)\n",
        "    final_dataset.append(accepted)"
      ]
    },
    {
      "cell_type": "code",
      "execution_count": null,
      "metadata": {
        "colab": {
          "background_save": true
        },
        "id": "Sooc9-_hvajl"
      },
      "outputs": [],
      "source": [
        "import matplotlib.pyplot as plt\n",
        "import matplotlib.patches as patches\n",
        "from PIL import Image\n",
        "\n",
        "def visualize_final_boxes(image_paths, final_dataset, n=5):\n",
        "    plt.figure(figsize=(15, 3 * n))\n",
        "    for i in range(n):\n",
        "        img = Image.open(image_paths[i])\n",
        "        boxes = final_dataset[i]\n",
        "\n",
        "        ax = plt.subplot(n, 1, i + 1)\n",
        "        ax.imshow(img)\n",
        "        for box in boxes:\n",
        "            x1, y1, x2, y2 = box\n",
        "            rect = patches.Rectangle((x1, y1), x2 - x1, y2 - y1,\n",
        "                                     linewidth=2, edgecolor='lime', facecolor='none')\n",
        "            ax.add_patch(rect)\n",
        "            ax.text(x1, y1 - 5, \"person\", color='lime', fontsize=10)\n",
        "        ax.set_title(f\"Image {i+1}: {os.path.basename(image_paths[i])}\")\n",
        "        ax.axis('off')\n",
        "    plt.tight_layout()\n",
        "    plt.show()"
      ]
    },
    {
      "cell_type": "code",
      "execution_count": null,
      "metadata": {
        "colab": {
          "background_save": true
        },
        "id": "OY72lt6lvpmZ"
      },
      "outputs": [],
      "source": [
        "visualize_final_boxes(image_paths, final_dataset, n=5)  # можно изменить n"
      ]
    }
  ],
  "metadata": {
    "colab": {
      "provenance": []
    },
    "kernelspec": {
      "display_name": "Python 3",
      "name": "python3"
    },
    "language_info": {
      "name": "python"
    }
  },
  "nbformat": 4,
  "nbformat_minor": 0
}
